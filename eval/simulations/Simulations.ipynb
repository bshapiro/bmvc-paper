{
 "cells": [
  {
   "cell_type": "code",
   "execution_count": null,
   "metadata": {
    "scrolled": true
   },
   "outputs": [],
   "source": [
    "import os\n",
    "import sys\n",
    "import inspect\n",
    "currentdir = os.path.dirname(os.path.abspath(inspect.getfile(inspect.currentframe())))\n",
    "parentdir = os.path.dirname(currentdir)\n",
    "grandparentdir = os.path.dirname(parentdir)\n",
    "sys.path.insert(0, parentdir) \n",
    "sys.path.insert(0, grandparentdir)\n",
    "\n",
    "from bmvc import *\n",
    "from simulations.simulations import *\n",
    "from sklearn.preprocessing import scale\n",
    "from pickle import load\n",
    "from runners import *\n",
    "import autograd.numpy as np"
   ]
  },
  {
   "cell_type": "code",
   "execution_count": null,
   "metadata": {},
   "outputs": [],
   "source": [
    "# Simulation parameters\n",
    "sim_rs = 1 # random seed \n",
    "p = 0.5 # binomial randomness parameter\n",
    "shift = 0.5 # size of shift \n",
    "n = 100  # number of samples per clsuter\n",
    "n_shift = 50 # number of samples to shift\n",
    "sigma = 0.3 # variance of Gaussians\n",
    "K = 4 # number of clusters to infer"
   ]
  },
  {
   "cell_type": "code",
   "execution_count": null,
   "metadata": {},
   "outputs": [],
   "source": [
    "# Clustering parameters\n",
    "phi = None # infer phi\n",
    "phi_mean_prior = 0\n",
    "phi_scale_prior = 1\n",
    "rs = 2 # random seed\n",
    "iter = 10\n",
    "init= 'kmeans'\n",
    "inference = 'alternating'\n",
    "pseudo = False  # whether to use pseudolikelihood"
   ]
  },
  {
   "cell_type": "code",
   "execution_count": null,
   "metadata": {
    "scrolled": false
   },
   "outputs": [],
   "source": [
    "# clusters, n1, n2, sigma1, sigma2, R = two_cluster_sim(n, sigma)\n",
    "clusters, n1, n2, sigma1, sigma2, R = four_cluster_baseline(n, sigma)\n",
    "\n",
    "# samples1, samples2, labels1, labels2 = generate_data_p_mod_gt(clusters, [n1, n2], [sigma1, sigma2], p, shift, n_shift, rs=sim_rs)\n",
    "samples1, samples2, labels1, labels2 = generate_data_baseline_mod(clusters, [n1, n2], [sigma1, sigma2], p, shift, n_shift, rs=sim_rs)"
   ]
  },
  {
   "cell_type": "code",
   "execution_count": null,
   "metadata": {
    "scrolled": true
   },
   "outputs": [],
   "source": [
    "visualize_2d(clusters, clusters, samples1, samples2, labels1, labels2)"
   ]
  },
  {
   "cell_type": "code",
   "execution_count": null,
   "metadata": {
    "scrolled": true
   },
   "outputs": [],
   "source": [
    "X1 = scale(samples1)\n",
    "X2 = scale(samples2)"
   ]
  },
  {
   "cell_type": "code",
   "execution_count": null,
   "metadata": {
    "scrolled": true
   },
   "outputs": [],
   "source": [
    "print(\"Confirming data is scaled...\")\n",
    "print(np.var(X1, 0))\n",
    "print(np.var(X2, 0))\n",
    "print(np.mean(X1, 0))\n",
    "print(np.mean(X2, 0))"
   ]
  },
  {
   "cell_type": "code",
   "execution_count": null,
   "metadata": {
    "scrolled": true
   },
   "outputs": [],
   "source": []
  },
  {
   "cell_type": "code",
   "execution_count": null,
   "metadata": {},
   "outputs": [],
   "source": [
    "step_size = np.zeros(K*2 + K*2 + 2, dtype=float)\n",
    "pi_step = 0.1\n",
    "phi_step = 1\n",
    "step_size[:K*2+K*2] = pi_step\n",
    "step_size[K*2+K*2:] = phi_step"
   ]
  },
  {
   "cell_type": "code",
   "execution_count": null,
   "metadata": {},
   "outputs": [],
   "source": [
    "model, parameters = gen_vi_mvc_results(X1, X2, R, K, \n",
    "                           phi=phi,\n",
    "                           phi_mean_prior=phi_mean_prior,\n",
    "                           phi_scale_prior=phi_scale_prior,\n",
    "                           init=init,\n",
    "                           random_state=rs,\n",
    "                           iter=iter,\n",
    "                           inference=inference,\n",
    "                           step_size=step_size, \n",
    "                           pseudo=pseudo)"
   ]
  },
  {
   "cell_type": "code",
   "execution_count": null,
   "metadata": {
    "scrolled": true
   },
   "outputs": [],
   "source": []
  },
  {
   "cell_type": "code",
   "execution_count": null,
   "metadata": {},
   "outputs": [],
   "source": [
    "visualize_2d_results(X1, X2, labels1, labels2, model.muA, model.muB, model.sigmaA, model.sigmaB)\n",
    "visualize_2d_results(X1, X2, model.zA, model.zB, model.muA, model.muB, model.sigmaA, model.sigmaB)"
   ]
  },
  {
   "cell_type": "code",
   "execution_count": null,
   "metadata": {},
   "outputs": [],
   "source": [
    "compare_clusterings_ari(labels1, model.zA, 'ARI MVC View 1')\n",
    "compare_clusterings_ari(labels2, model.zB, 'ARI MVC View 2')"
   ]
  },
  {
   "cell_type": "code",
   "execution_count": null,
   "metadata": {
    "scrolled": true
   },
   "outputs": [],
   "source": []
  },
  {
   "cell_type": "code",
   "execution_count": null,
   "metadata": {
    "scrolled": true
   },
   "outputs": [],
   "source": []
  },
  {
   "cell_type": "code",
   "execution_count": null,
   "metadata": {
    "scrolled": true
   },
   "outputs": [],
   "source": [
    "phi = 0\n",
    "pseudo = False\n",
    "step_size = np.zeros(K*2 + K*2, dtype=float)\n",
    "pi_step = 0.1\n",
    "phi_step = 1\n",
    "step_size[:K*2+K*2] = pi_step"
   ]
  },
  {
   "cell_type": "code",
   "execution_count": null,
   "metadata": {},
   "outputs": [],
   "source": [
    "model, parameters = gen_gd_mvc_results(X1, X2, R, K, \n",
    "                           phi=phi,\n",
    "                           phi_mean_prior=phi_mean_prior,\n",
    "                           phi_scale_prior=phi_scale_prior,\n",
    "                           init=init,\n",
    "                           random_state=rs,\n",
    "                           iter=iter,\n",
    "                           inference=inference,\n",
    "                           step_size=step_size,\n",
    "                           pseudo=pseudo)"
   ]
  },
  {
   "cell_type": "code",
   "execution_count": null,
   "metadata": {},
   "outputs": [],
   "source": [
    "visualize_2d_results(X1, X2, labels1, labels2, model.muA, model.muB, model.sigmaA, model.sigmaB)\n",
    "visualize_2d_results(X1, X2, model.zA, model.zB, model.muA, model.muB, model.sigmaA, model.sigmaB)"
   ]
  },
  {
   "cell_type": "code",
   "execution_count": null,
   "metadata": {},
   "outputs": [],
   "source": [
    "compare_clusterings_ari(labels1, model.zA, 'GMM View 1')\n",
    "compare_clusterings_ari(labels2, model.zB, 'GMM View 2')"
   ]
  },
  {
   "cell_type": "code",
   "execution_count": null,
   "metadata": {},
   "outputs": [],
   "source": []
  },
  {
   "cell_type": "code",
   "execution_count": null,
   "metadata": {
    "scrolled": true
   },
   "outputs": [],
   "source": [
    "merged_samples = np.concatenate((np.array(samples1), np.array(samples2)), 1)\n",
    "X = scale(merged_samples)\n",
    "gmm = GaussianMixture(n_components=K, random_state=rs)\n",
    "gmm_z = gmm.fit(X).predict(X)\n",
    "ari_gmm_view1 = compare_clusterings_ari(labels1, gmm_z, 'Merged GMM, View 1')\n",
    "ari_gmm_view2 = compare_clusterings_ari(labels2, gmm_z, 'Merged GMM, View 2')"
   ]
  },
  {
   "cell_type": "code",
   "execution_count": null,
   "metadata": {
    "scrolled": true
   },
   "outputs": [],
   "source": [
    "visualize_2d_results(X[:, :2], X[:, 2:4], labels1, labels2, gmm.means_[:,:2], gmm.means_[:, 2:4], [covariance[0:2, 0:2] for covariance in gmm.covariances_], [covariance[2:4, 2:4] for covariance in gmm.covariances_])\n",
    "visualize_2d_results(X[:, :2], X[:, 2:4], gmm_z, gmm_z, gmm.means_[:,:2], gmm.means_[:, 2:4], [covariance[0:2, 0:2] for covariance in gmm.covariances_], [covariance[2:4, 2:4] for covariance in gmm.covariances_])"
   ]
  },
  {
   "cell_type": "markdown",
   "metadata": {},
   "source": [
    "## "
   ]
  }
 ],
 "metadata": {
  "kernelspec": {
   "display_name": "Python 3",
   "language": "python",
   "name": "python3"
  },
  "language_info": {
   "codemirror_mode": {
    "name": "ipython",
    "version": 3
   },
   "file_extension": ".py",
   "mimetype": "text/x-python",
   "name": "python",
   "nbconvert_exporter": "python",
   "pygments_lexer": "ipython3",
   "version": "3.8.5"
  }
 },
 "nbformat": 4,
 "nbformat_minor": 2
}
